{
 "cells": [
  {
   "cell_type": "markdown",
   "metadata": {},
   "source": [
    "# nbdev-netlify-example\n",
    "\n",
    "> An example of documentation only nbdev project using Netlify"
   ]
  },
  {
   "attachments": {},
   "cell_type": "markdown",
   "metadata": {},
   "source": [
    "Follow the steps in this blog post to create your own Netlify site using nbdev: [Write docs with notebooks using nbdev + Netlify](https://gitnotebooks.com/blog/90bff461-c2d4-43ae-a1a7-da69b965a065)"
   ]
  }
 ],
 "metadata": {
  "kernelspec": {
   "display_name": "python3",
   "language": "python",
   "name": "python3"
  }
 },
 "nbformat": 4,
 "nbformat_minor": 4
}
